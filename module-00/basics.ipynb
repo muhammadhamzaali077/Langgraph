{
  "cells": [
    {
      "cell_type": "markdown",
      "id": "ef597741-3211-4ecc-92f7-f58023ee237e",
      "metadata": {
        "id": "ef597741-3211-4ecc-92f7-f58023ee237e"
      },
      "source": [
        "# LangChain Academy\n",
        "\n",
        "Welcome to LangChain Academy!\n",
        "\n",
        "## Context\n",
        "\n",
        "At LangChain, we aim to make it easy to build LLM applications. One type of LLM application you can build is an agent. There’s a lot of excitement around building agents because they can automate a wide range of tasks that were previously impossible.\n",
        "\n",
        "In practice though, it is incredibly difficult to build systems that reliably execute on these tasks. As we’ve worked with our users to put agents into production, we’ve learned that more control is often necessary. You might need an agent to always call a specific tool first or use different prompts based on its state.\n",
        "\n",
        "To tackle this problem, we’ve built [LangGraph](https://langchain-ai.github.io/langgraph/) — a framework for building agent and multi-agent applications. Separate from the LangChain package, LangGraph’s core design philosophy is to help developers add better precision and control into agent workflows, suitable for the complexity of real-world systems.\n",
        "\n",
        "## Course Structure\n",
        "\n",
        "The course is structured as a set of modules, with each module focused on a particular theme related to LangGraph. You will see a folder for each module, which contains a series of notebooks. A video will accompany each notebook to help walk through the concepts, but the notebooks are also stand-alone, meaning that they contain explanations and can be viewed independent of the videos. Each module folder also contains a `studio` folder, which contains a set of graphs that can be loaded into [LangGraph Studio](https://github.com/langchain-ai/langgraph-studio), our IDE for building LangGraph applications.\n",
        "\n",
        "## Setup\n",
        "\n",
        "Before you begin, please follow the instructions in the `README` to create an environment and install dependencies.\n",
        "\n",
        "## Chat models\n",
        "\n",
        "In this course, we'll be using [Chat Models](https://python.langchain.com/v0.2/docs/concepts/#chat-models), which do a few things take a sequence of messages as inputs and return chat messages as outputs. LangChain does not host any Chat Models, rather we rely on third party integrations. [Here](https://python.langchain.com/v0.2/docs/integrations/chat/) is a list of 3rd party chat model integrations within LangChain! By default, the course with use [GEMINI_API_KEY](https://ai.google.dev/gemini-api/docs/api-key/) because it is both popular and performant. As noted, please ensure that you have an `GEMINI_API_KEY`.\n",
        "\n",
        "Let's check that your `GEMINI_API_KEY` is set and, if not, you will be asked to enter it."
      ]
    },
    {
      "cell_type": "code",
      "execution_count": 1,
      "id": "0f9a52c8",
      "metadata": {
        "id": "0f9a52c8"
      },
      "outputs": [],
      "source": [
        "%%capture --no-stderr\n",
        "!pip install -q langchain_google_genai"
      ]
    },
    {
      "cell_type": "code",
      "source": [
        "from langchain_google_genai import ChatGoogleGenerativeAI\n",
        "\n",
        "from google.colab import userdata\n",
        "GEMINI_API_KEY = userdata.get('GEMINI_API_KEY')\n",
        "llm = ChatGoogleGenerativeAI(\n",
        "    model=\"gemini-1.5-flash\",\n",
        "    api_key=GEMINI_API_KEY,\n",
        "    temperature=0\n",
        ")\n"
      ],
      "metadata": {
        "id": "Ch7HciDZXh3F"
      },
      "id": "Ch7HciDZXh3F",
      "execution_count": 2,
      "outputs": []
    },
    {
      "cell_type": "code",
      "source": [
        "result = llm.invoke(\"what is langgraph?\")\n",
        "result"
      ],
      "metadata": {
        "colab": {
          "base_uri": "https://localhost:8080/"
        },
        "id": "KKnOnfj3YZYT",
        "outputId": "eeae96db-3568-404b-cc51-355027f6e655"
      },
      "id": "KKnOnfj3YZYT",
      "execution_count": 4,
      "outputs": [
        {
          "output_type": "execute_result",
          "data": {
            "text/plain": [
              "AIMessage(content='LangGraph is a large-scale multilingual knowledge graph constructed by combining information from various sources, primarily focusing on language-related data.  It doesn\\'t represent a single, monolithic project but rather a concept and approach to building such a graph.  Different research groups and projects might implement their own versions of a LangGraph.\\n\\nKey characteristics of a LangGraph typically include:\\n\\n* **Multilingual Support:**  It connects information across multiple languages, allowing for cross-lingual knowledge discovery and reasoning.\\n* **Language-centric Entities and Relations:**  The nodes (entities) and edges (relations) in the graph are heavily focused on linguistic concepts.  This could include words, phrases, grammatical structures, languages themselves, dialects, linguistic features, and relationships between them (e.g., synonymy, antonymy, translation equivalence, grammatical dependency).\\n* **Data Sources:**  The data used to build a LangGraph is often drawn from diverse sources like dictionaries, thesauri, parallel corpora, linguistic databases, and ontologies.\\n* **Applications:**  LangGraph can be used for various natural language processing (NLP) tasks, including machine translation, cross-lingual information retrieval, word sense disambiguation, and building multilingual language models.\\n\\nIn essence, LangGraph is a powerful tool for representing and reasoning about linguistic knowledge in a structured and interconnected way, enabling more sophisticated and nuanced NLP applications.  Because it\\'s a conceptual framework, there isn\\'t one definitive \"LangGraph\" but rather many potential implementations depending on the specific data and goals of the researchers.', additional_kwargs={}, response_metadata={'prompt_feedback': {'block_reason': 0, 'safety_ratings': []}, 'finish_reason': 'STOP', 'safety_ratings': []}, id='run-234ef695-d6a1-4496-af5c-44ea892cb9de-0', usage_metadata={'input_tokens': 6, 'output_tokens': 320, 'total_tokens': 326, 'input_token_details': {'cache_read': 0}})"
            ]
          },
          "metadata": {},
          "execution_count": 4
        }
      ]
    },
    {
      "cell_type": "markdown",
      "id": "28450d1b",
      "metadata": {
        "id": "28450d1b"
      },
      "source": [
        "Chat models in LangChain have a number of [default methods](https://python.langchain.com/v0.2/docs/concepts/#runnable-interface). For the most part, we'll be using:\n",
        "\n",
        "* `stream`: stream back chunks of the response\n",
        "* `invoke`: call the chain on an input\n",
        "\n",
        "And, as mentioned, chat models take [messages](https://python.langchain.com/v0.2/docs/concepts/#messages) as input. Messages have a role (that describes who is saying the message) and a content property. We'll be talking a lot more about this later, but here let's just show the basics."
      ]
    },
    {
      "cell_type": "code",
      "source": [
        "!pip install langchain_core -q\n"
      ],
      "metadata": {
        "id": "MDKat1-oDca7"
      },
      "id": "MDKat1-oDca7",
      "execution_count": 5,
      "outputs": []
    },
    {
      "cell_type": "code",
      "execution_count": 9,
      "id": "b1280e1b",
      "metadata": {
        "colab": {
          "base_uri": "https://localhost:8080/"
        },
        "id": "b1280e1b",
        "outputId": "fc392f6b-e982-4f2e-ed9d-2b94de19ed06"
      },
      "outputs": [
        {
          "output_type": "execute_result",
          "data": {
            "text/plain": [
              "AIMessage(content='LangChain is a framework for developing applications with large language models (LLMs).  It provides tools and building blocks for various tasks, but doesn\\'t have a pre-built \"LangGraph\" feature.  It\\'s possible you\\'re thinking of something else, or perhaps a custom implementation someone built using LangChain.\\n\\nTo help me understand what you\\'re looking for, could you clarify:\\n\\n* **Where did you hear about LangGraph?**  Knowing the source will help determine what it actually is.\\n* **What are you hoping to achieve with LangGraph (or whatever you\\'re trying to build)?**  Describing the goal will help me suggest the appropriate LangChain components and techniques.\\n\\nFor example, if you\\'re interested in building a knowledge graph using LLMs and LangChain, I can guide you through the process.  This would involve using LangChain\\'s capabilities for:\\n\\n* **LLM interaction:**  Using LLMs to extract relationships and facts from text data.\\n* **Data loading and processing:**  Loading data from various sources and preparing it for LLM processing.\\n* **Knowledge graph construction:**  Using libraries like `networkx` to build and manage the graph structure.\\n* **Chain building:**  Combining different LangChain components (LLMs, prompts, data loaders) into a workflow.\\n\\nIf you can provide more context, I can give you a much more specific and helpful answer.', additional_kwargs={}, response_metadata={'prompt_feedback': {'block_reason': 0, 'safety_ratings': []}, 'finish_reason': 'STOP', 'safety_ratings': []}, id='run-32142950-22f1-4ec0-a24a-32f984e23ef0-0', usage_metadata={'input_tokens': 33, 'output_tokens': 298, 'total_tokens': 331, 'input_token_details': {'cache_read': 0}})"
            ]
          },
          "metadata": {},
          "execution_count": 9
        }
      ],
      "source": [
        "from langchain_core.messages import HumanMessage, AIMessage\n",
        "\n",
        "# Create a message\n",
        "# Message list\n",
        "messages = [\n",
        "    HumanMessage(content=\"Hi\", name=\"Human Student\"),\n",
        "    AIMessage(content=\"Hi there! How can I help you today?\", name=\"AI response\"),\n",
        "    HumanMessage(content=\"Teach me langgraph\", name=\"Human Student\"),\n",
        "    AIMessage(content=\"LangChain doesn\\'t have a specific component or module called LangGraph\", name=\"Ai response\")\n",
        "    ]\n",
        "\n",
        "# message = HumanMessage(content='what is langgraph', name=\"student\")\n",
        "# messages = [message]\n",
        "# Invoke the model with a list of messages\n",
        "llm.invoke(messages)"
      ]
    },
    {
      "cell_type": "code",
      "source": [
        "from langchain_core.messages import HumanMessage, AIMessage\n",
        "\n",
        "\n",
        "messages = [\n",
        "    HumanMessage(content=\"current situation of los angelos\", name=\"Human Student\"),\n",
        "    ]\n",
        "\n",
        "llm.invoke(messages)"
      ],
      "metadata": {
        "id": "iT8kUu27Fd0l",
        "outputId": "cd393ce9-6c6f-4b69-8b8b-b37aa67fbc34",
        "colab": {
          "base_uri": "https://localhost:8080/"
        }
      },
      "id": "iT8kUu27Fd0l",
      "execution_count": 11,
      "outputs": [
        {
          "output_type": "execute_result",
          "data": {
            "text/plain": [
              "AIMessage(content=\"Los Angeles is currently experiencing a complex and multifaceted situation, encompassing several key areas:\\n\\n* **Housing Crisis:**  A severe shortage of affordable housing continues to be a major problem, leading to homelessness, displacement, and high housing costs for many residents.  This is exacerbated by rising interest rates and inflation.\\n\\n* **Homelessness:**  The city grapples with a large and visible homeless population, facing challenges in providing adequate shelter, services, and support.  Efforts to address this are ongoing, but the scale of the problem remains significant.\\n\\n* **Economy:**  Los Angeles has a diverse economy, but it's not immune to national and global economic trends.  While certain sectors thrive, others face challenges, and the city's economic health is influenced by factors like inflation, interest rates, and the tech industry's performance.\\n\\n* **Crime:**  Crime rates fluctuate, and specific areas experience higher rates than others.  The city is actively working on crime prevention and addressing public safety concerns.\\n\\n* **Politics:**  Los Angeles is a politically diverse city with ongoing debates on various issues, including housing, homelessness, policing, and infrastructure.  Local, state, and national politics all play a role in shaping the city's current situation.\\n\\n* **Climate Change:**  Los Angeles is vulnerable to the effects of climate change, including wildfires, droughts, and extreme heat.  The city is implementing measures to mitigate these risks and adapt to a changing climate.\\n\\n* **Infrastructure:**  The city faces challenges in maintaining and upgrading its aging infrastructure, including roads, bridges, and public transportation systems.\\n\\n* **Traffic:**  Los Angeles is notorious for its traffic congestion, which impacts residents' daily lives and contributes to air pollution.  Efforts to improve public transportation and reduce reliance on cars are ongoing.\\n\\n\\nIn short, Los Angeles's current situation is a dynamic mix of opportunities and challenges.  While the city boasts a vibrant culture, strong economy in certain sectors, and significant innovation, it also faces significant social and infrastructural hurdles that require ongoing attention and solutions.  To get a truly up-to-the-minute understanding, you should consult local news sources.\", additional_kwargs={}, response_metadata={'prompt_feedback': {'block_reason': 0, 'safety_ratings': []}, 'finish_reason': 'STOP', 'safety_ratings': []}, id='run-5685f5ca-6135-4add-ac7c-0b76869a8dbd-0', usage_metadata={'input_tokens': 7, 'output_tokens': 446, 'total_tokens': 453, 'input_token_details': {'cache_read': 0}})"
            ]
          },
          "metadata": {},
          "execution_count": 11
        }
      ]
    },
    {
      "cell_type": "markdown",
      "id": "cac73e4c",
      "metadata": {
        "id": "cac73e4c"
      },
      "source": [
        "We get an `AIMessage` response. Also, note that we can just invoke a chat model with a string. When a string is passed in as input, it is converted to a `HumanMessage` and then passed to the underlying model.\n"
      ]
    },
    {
      "cell_type": "markdown",
      "id": "582c0e5a",
      "metadata": {
        "id": "582c0e5a"
      },
      "source": [
        "The interface is consistent across all chat models and models are typically initialized once at the start up each notebooks.\n",
        "\n",
        "So, you can easily switch between models without changing the downstream code if you have strong preference for another provider.\n"
      ]
    },
    {
      "cell_type": "markdown",
      "id": "3ad0069a",
      "metadata": {
        "id": "3ad0069a"
      },
      "source": [
        "## Search Tools\n",
        "\n",
        "You'll also see [Tavily](https://tavily.com/) in the README, which is a search engine optimized for LLMs and RAG, aimed at efficient, quick, and persistent search results. As mentioned, it's easy to sign up and offers a generous free tier. Some lessons (in Module 4) will use Tavily by default but, of course, other search tools can be used if you want to modify the code for yourself."
      ]
    },
    {
      "cell_type": "code",
      "source": [
        "!pip install langchain_community tavily-python"
      ],
      "metadata": {
        "id": "wwOFuSuUG3ab"
      },
      "id": "wwOFuSuUG3ab",
      "execution_count": null,
      "outputs": []
    },
    {
      "cell_type": "code",
      "execution_count": 18,
      "id": "52d69da9",
      "metadata": {
        "id": "52d69da9"
      },
      "outputs": [],
      "source": [
        "import os\n",
        "from google.colab import userdata\n",
        "TAVILY_API_KEY = userdata.get('TAVILY_API_KEY')\n",
        "os.environ[\"TAVILY_API_KEY\"] = userdata.get('TAVILY_API_KEY')\n",
        "\n",
        "from langchain_community.tools.tavily_search import TavilySearchResults\n",
        "tavily_search = TavilySearchResults(max_results=3)\n",
        "search_docs = tavily_search.invoke(\"what date is today in pakistan?\")"
      ]
    },
    {
      "cell_type": "code",
      "source": [
        "import pprint\n",
        "pprint.pprint(search_docs)"
      ],
      "metadata": {
        "colab": {
          "base_uri": "https://localhost:8080/"
        },
        "id": "JWzZ6zAvb2Fv",
        "outputId": "f27df9a5-a15b-425b-bff0-8d5661b27853"
      },
      "id": "JWzZ6zAvb2Fv",
      "execution_count": 20,
      "outputs": [
        {
          "output_type": "stream",
          "name": "stdout",
          "text": [
            "[{'content': 'Islamic date today Pakistan is 16 Rajab 1446, as of Jan 17, '\n",
            "             \"2025. Islamic date of today in Pakistan varies from today's date \"\n",
            "             \"for the Islamic calendar worldwide. Pakistan's Ruet e Hilal \"\n",
            "             'Committee announces the start of every Islamic month after the '\n",
            "             \"moon's sighting. You can always find the accurate Islamic month \"\n",
            "             'and date today in Pakistan at',\n",
            "  'url': 'https://www.urdupoint.com/islam/today-islamic-date.html'},\n",
            " {'content': 'Islamic date today in Pakistan is 17 Rajab 1446 on 18 January, '\n",
            "             '2025. These dates are updated daily according to the Hijri '\n",
            "             'calendar of 1446 AH and the Gregorian Calendar of 2025. Today '\n",
            "             'Islamic Date in Pakistan. Pakistan is among the most populous '\n",
            "             'Muslim countries. It is a reason that people want to know about '\n",
            "             'the exact Islamic date in Pakistan.',\n",
            "  'url': 'https://hamariweb.com/islam/today-islamic-date-in-pakistan.aspx'},\n",
            " {'content': 'What is Islamic Date Today in Pakistan. Explore the current '\n",
            "             'Islamic date in Pakistan, precisely 14 Rajab 1446 AH. The Hijri '\n",
            "             'date, following the lunar calendar and moon phases, carries deep '\n",
            "             'cultural and religious significance. Stay informed with our '\n",
            "             'daily-refreshed authentic Hijri date. In the Muslim world, '\n",
            "             'rooted in tradition and the lunar',\n",
            "  'url': 'https://islamicdatetoday.net/'}]\n"
          ]
        }
      ]
    },
    {
      "cell_type": "code",
      "source": [
        "print(search_docs)"
      ],
      "metadata": {
        "id": "CX8Jq0SNIzmf",
        "outputId": "c0ca1d46-f5fc-4d16-c63b-64b7118081d1",
        "colab": {
          "base_uri": "https://localhost:8080/"
        }
      },
      "id": "CX8Jq0SNIzmf",
      "execution_count": 21,
      "outputs": [
        {
          "output_type": "stream",
          "name": "stdout",
          "text": [
            "[{'url': 'https://www.urdupoint.com/islam/today-islamic-date.html', 'content': \"Islamic date today Pakistan is 16 Rajab 1446, as of Jan 17, 2025. Islamic date of today in Pakistan varies from today's date for the Islamic calendar worldwide. Pakistan's Ruet e Hilal Committee announces the start of every Islamic month after the moon's sighting. You can always find the accurate Islamic month and date today in Pakistan at\"}, {'url': 'https://hamariweb.com/islam/today-islamic-date-in-pakistan.aspx', 'content': 'Islamic date today in Pakistan is 17 Rajab 1446 on 18 January, 2025. These dates are updated daily according to the Hijri calendar of 1446 AH and the Gregorian Calendar of 2025. Today Islamic Date in Pakistan. Pakistan is among the most populous Muslim countries. It is a reason that people want to know about the exact Islamic date in Pakistan.'}, {'url': 'https://islamicdatetoday.net/', 'content': 'What is Islamic Date Today in Pakistan. Explore the current Islamic date in Pakistan, precisely 14 Rajab 1446 AH. The Hijri date, following the lunar calendar and moon phases, carries deep cultural and religious significance. Stay informed with our daily-refreshed authentic Hijri date. In the Muslim world, rooted in tradition and the lunar'}]\n"
          ]
        }
      ]
    }
  ],
  "metadata": {
    "kernelspec": {
      "display_name": "Python 3 (ipykernel)",
      "language": "python",
      "name": "python3"
    },
    "language_info": {
      "codemirror_mode": {
        "name": "ipython",
        "version": 3
      },
      "file_extension": ".py",
      "mimetype": "text/x-python",
      "name": "python",
      "nbconvert_exporter": "python",
      "pygments_lexer": "ipython3",
      "version": "3.12.3"
    },
    "colab": {
      "provenance": []
    }
  },
  "nbformat": 4,
  "nbformat_minor": 5
}