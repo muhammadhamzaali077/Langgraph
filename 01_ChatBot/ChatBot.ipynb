{
  "cells": [
    {
      "cell_type": "markdown",
      "source": [
        "*Clothe Agent By Abu Bakar* :\n",
        "\n",
        "i created a *e-commerce customer support agent* for boys using Python LangGrpah  Gemini_Api_Key mockApi\n"
      ],
      "metadata": {
        "id": "tZolZeexpc-b"
      }
    },
    {
      "cell_type": "code",
      "execution_count": 1,
      "metadata": {
        "colab": {
          "base_uri": "https://localhost:8080/"
        },
        "id": "TN89YS7qNe2a",
        "outputId": "1fa97891-9f85-4379-d5a6-f06549a7f3b1"
      },
      "outputs": [
        {
          "output_type": "stream",
          "name": "stdout",
          "text": [
            "\u001b[?25l   \u001b[90m━━━━━━━━━━━━━━━━━━━━━━━━━━━━━━━━━━━━━━━━\u001b[0m \u001b[32m0.0/137.2 kB\u001b[0m \u001b[31m?\u001b[0m eta \u001b[36m-:--:--\u001b[0m\r\u001b[2K   \u001b[90m━━━━━━━━━━━━━━━━━━━━━━━━━━━━━━━━━━━━━━━━\u001b[0m \u001b[32m137.2/137.2 kB\u001b[0m \u001b[31m4.1 MB/s\u001b[0m eta \u001b[36m0:00:00\u001b[0m\n",
            "\u001b[2K   \u001b[90m━━━━━━━━━━━━━━━━━━━━━━━━━━━━━━━━━━━━━━━━\u001b[0m \u001b[32m41.5/41.5 kB\u001b[0m \u001b[31m2.0 MB/s\u001b[0m eta \u001b[36m0:00:00\u001b[0m\n",
            "\u001b[2K   \u001b[90m━━━━━━━━━━━━━━━━━━━━━━━━━━━━━━━━━━━━━━━━\u001b[0m \u001b[32m44.7/44.7 kB\u001b[0m \u001b[31m2.4 MB/s\u001b[0m eta \u001b[36m0:00:00\u001b[0m\n",
            "\u001b[?25h"
          ]
        }
      ],
      "source": [
        "%pip install --quiet -U langchain_core langgraph langchain_google_genai"
      ]
    },
    {
      "cell_type": "code",
      "execution_count": 2,
      "metadata": {
        "id": "EnGZhcV9NC0f"
      },
      "outputs": [],
      "source": [
        "import os\n",
        "from langchain_core.messages import SystemMessage, HumanMessage, RemoveMessage\n",
        "from langchain_google_genai import ChatGoogleGenerativeAI\n",
        "from langgraph.graph import MessagesState, StateGraph, START, END\n",
        "from langgraph.graph.state import CompiledStateGraph\n",
        "from langgraph.checkpoint.memory import MemorySaver\n",
        "import requests\n",
        "\n",
        "\n",
        "GOOGLE_API_KEY = os.environ.get(\"GEMINI_API_KEY\")\n",
        "\n",
        "model = ChatGoogleGenerativeAI(model=\"gemini-1.5-flash\")\n",
        "\n",
        "MOCKAPI_URL = \"https://675e967563b05ed0797a7ef4.mockapi.io/products\"\n"
      ]
    },
    {
      "cell_type": "code",
      "source": [
        "class ShopState(MessagesState):\n",
        "    summary: str = \"\"\n",
        "    preferences: dict = {}\n",
        "\n",
        "def fetch_products():\n",
        "    response = requests.get(MOCKAPI_URL)\n",
        "    if response.status_code == 200:\n",
        "        return response.json()\n",
        "    return {\"error\": \"Failed to fetch products\"}\n",
        "\n",
        "def fetch_product_by_id(product_id):\n",
        "    response = requests.get(f\"{MOCKAPI_URL}/{product_id}\")\n",
        "    if response.status_code == 200:\n",
        "        return response.json()\n",
        "    return {\"error\": f\"Failed to fetch product with ID {product_id}\"}\n",
        "\n"
      ],
      "metadata": {
        "id": "JF9Dj5kRlWvc"
      },
      "execution_count": 3,
      "outputs": []
    }
  ],
  "metadata": {
    "colab": {
      "provenance": []
    },
    "kernelspec": {
      "display_name": "Python 3",
      "name": "python3"
    },
    "language_info": {
      "name": "python"
    }
  },
  "nbformat": 4,
  "nbformat_minor": 0
}